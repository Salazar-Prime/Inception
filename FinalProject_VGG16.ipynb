{
 "cells": [
  {
   "cell_type": "code",
   "execution_count": 1,
   "metadata": {},
   "outputs": [],
   "source": [
    "# VGG-16 Code for Final Project IE 590\n",
    "# Keras implementation of VGG16\n",
    "# Kristiaan Hector\n",
    "\n",
    "# First we need to import the appropriate libraries\n",
    "#--------------------------------------------------------------------------------------------------\n",
    "# This ensures compatibility\n",
    "# import tensorflow.python.keras import backend as K\n",
    "import tensorflow.keras \n",
    "\n",
    "# Import libraries for reading and processing data\n",
    "from tensorflow.keras.preprocessing.image import ImageDataGenerator\n",
    "from tensorflow.keras.models import Model\n",
    "from tensorflow.keras.layers import Flatten, Dense, Dropout\n",
    "from tensorflow.keras.optimizers import Adam\n",
    "\n",
    "# Import the VGG-16 model from keras\n",
    "from tensorflow.python.keras.applications.vgg16 import VGG16, preprocess_input\n",
    "\n",
    "# import numpy\n",
    "import numpy as np\n",
    "#--------------------------------------------------------------------------------------------------"
   ]
  },
  {
   "cell_type": "code",
   "execution_count": 2,
   "metadata": {},
   "outputs": [],
   "source": [
    "# Next, we need to define a few important things\n",
    "\n",
    "DATASET_PATH  = './weed_data'                                       # set the path to the data set\n",
    "IMAGE_SIZE    =  (300,300)                                            # set the image size\n",
    "NUM_CLASSES   = 4                                                     # we have 4 different classes \n",
    "BATCH_SIZE    = 8                                                 # set the batch size\n",
    "NUM_EPOCHS    = 30                                                    # set the number of epochs\n",
    "WEIGHTS_FINAL = 'model-vgg16-final.h5'                                # save weights after training\n"
   ]
  },
  {
   "cell_type": "code",
   "execution_count": null,
   "metadata": {},
   "outputs": [],
   "source": [
    "# Now we need to create our training and validation batches\n",
    "\n",
    "train_datagen = ImageDataGenerator(preprocessing_function=preprocess_input)\n",
    "\n",
    "# define the training data\n",
    "train_batches = train_datagen.flow_from_directory(DATASET_PATH+'/train',\n",
    "                                                  target_size=IMAGE_SIZE,\n",
    "                                                  interpolation='bicubic',\n",
    "                                                  class_mode='categorical',\n",
    "                                                  shuffle=True,\n",
    "                                                  batch_size=BATCH_SIZE)\n",
    "                                                  \n",
    "valid_datagen = ImageDataGenerator(preprocessing_function=preprocess_input)\n",
    "\n",
    "# now define the validation data\n",
    "valid_batches = valid_datagen.flow_from_directory(DATASET_PATH+'/val',\n",
    "                                                  target_size=IMAGE_SIZE,\n",
    "                                                  interpolation='bicubic',\n",
    "                                                  class_mode='categorical',\n",
    "                                                  shuffle=False,\n",
    "                                                  batch_size=BATCH_SIZE)"
   ]
  },
  {
   "cell_type": "code",
   "execution_count": null,
   "metadata": {},
   "outputs": [],
   "source": [
    "# Next we want to show the classes\n",
    "print('****************')\n",
    "for cls, idx in train_batches.class_indices.items():\n",
    "    print('Class #{} = {}'.format(idx,cls))\n",
    "print('****************')\n",
    "\n",
    "#--------------------------------------------------------------------------------------------------"
   ]
  },
  {
   "cell_type": "code",
   "execution_count": null,
   "metadata": {},
   "outputs": [],
   "source": [
    "# Next, let's set up the VGG16 model\n",
    "model = VGG16(weights=None,\n",
    "              input_tensor=None,\n",
    "              input_shape=(IMAGE_SIZE[0],IMAGE_SIZE[1],3),\n",
    "              pooling='max',\n",
    "              classes=NUM_CLASSES)"
   ]
  },
  {
   "cell_type": "code",
   "execution_count": null,
   "metadata": {},
   "outputs": [],
   "source": [
    "# Next, ensure that all of the layers in our model are trainable\n",
    "for layer in model.layers:\n",
    "    layer.trainable = True"
   ]
  },
  {
   "cell_type": "code",
   "execution_count": null,
   "metadata": {},
   "outputs": [],
   "source": [
    "# After this, set up the optimizer for the model\n",
    "# Here, I chose to use Adam...\n",
    "model.compile(optimizer=Adam(lr=1e-5),\n",
    "              loss='categorical_crossentropy',\n",
    "              metrics=['accuracy'])"
   ]
  },
  {
   "cell_type": "code",
   "execution_count": null,
   "metadata": {},
   "outputs": [],
   "source": [
    "# Make a usable summary of the model\n",
    "print(model.summary())"
   ]
  },
  {
   "cell_type": "code",
   "execution_count": null,
   "metadata": {},
   "outputs": [],
   "source": [
    "# Here, let's train the model\n",
    "hist = model.fit_generator(train_batches,\n",
    "                    steps_per_epoch = train_batches.samples // BATCH_SIZE,\n",
    "                    validation_data = valid_batches,\n",
    "                    validation_steps = valid_batches.samples //BATCH_SIZE,\n",
    "                    epochs = NUM_EPOCHS)"
   ]
  },
  {
   "cell_type": "code",
   "execution_count": null,
   "metadata": {},
   "outputs": [],
   "source": [
    "import matplotlib.pyplot as plt\n",
    "N=NUM_EPOCHS\n",
    "\n",
    "plt.style.use(\"ggplot\")\n",
    "plt.figure()\n",
    "plt.plot(np.arange(0, N), hist.history[\"loss\"], label=\"train_loss\")\n",
    "plt.plot(np.arange(0, N), hist.history[\"val_loss\"], label=\"val_loss\")\n",
    "\n",
    "plt.title(\"Training/Validation Loss on Dataset\")\n",
    "plt.xlabel(\"Epoch #\")\n",
    "plt.ylabel(\"Loss\")\n",
    "plt.legend(loc=\"lower left\")\n",
    "plt.savefig(\"plot_loss.png\")\n",
    "\n",
    "plt.figure()\n",
    "plt.plot(np.arange(0, N), hist.history[\"accuracy\"], label=\"train_acc\")\n",
    "plt.plot(np.arange(0, N), hist.history[\"val_accuracy\"], label=\"val_acc\")\n",
    "\n",
    "plt.title(\"Training/Validation Accuracy on Dataset\")\n",
    "plt.xlabel(\"Epoch #\")\n",
    "plt.ylabel(\"Accuracy\")\n",
    "plt.legend(loc=\"lower left\")\n",
    "plt.savefig(\"plot.png\")"
   ]
  },
  {
   "cell_type": "code",
   "execution_count": 3,
   "metadata": {},
   "outputs": [
    {
     "name": "stdout",
     "output_type": "stream",
     "text": [
      "Found 270 images belonging to 4 classes.\n",
      "Found 91 images belonging to 4 classes.\n"
     ]
    }
   ],
   "source": [
    "# Now let's add some data augmentation to our images to see if we can combat this overfitting\n",
    "# problem...\n",
    "\n",
    "train_datagen = ImageDataGenerator(preprocessing_function=preprocess_input,\n",
    "                                   rotation_range=30,\n",
    "                                   width_shift_range=0.2,\n",
    "                                   height_shift_range=0.2,\n",
    "                                   zoom_range=0.4,\n",
    "                                   horizontal_flip=True,\n",
    "                                   fill_mode='nearest')\n",
    "\n",
    "# define the training data\n",
    "train_batches = train_datagen.flow_from_directory(DATASET_PATH+'/train',\n",
    "                                                  target_size=IMAGE_SIZE,\n",
    "                                                  interpolation='bicubic',\n",
    "                                                  class_mode='categorical',\n",
    "                                                  shuffle=True,\n",
    "                                                  batch_size=BATCH_SIZE)\n",
    "                                                  \n",
    "valid_datagen = ImageDataGenerator(preprocessing_function=preprocess_input)\n",
    "\n",
    "# now define the validation data\n",
    "valid_batches = valid_datagen.flow_from_directory(DATASET_PATH+'/val',\n",
    "                                                  target_size=IMAGE_SIZE,\n",
    "                                                  interpolation='bicubic',\n",
    "                                                  class_mode='categorical',\n",
    "                                                  shuffle=False,\n",
    "                                                  batch_size=BATCH_SIZE)"
   ]
  },
  {
   "cell_type": "code",
   "execution_count": 4,
   "metadata": {},
   "outputs": [],
   "source": [
    "# create a new VGG model\n",
    "# vgg16 model set up\n",
    "model2 = VGG16(weights=None,\n",
    "              input_tensor=None,\n",
    "              input_shape=(IMAGE_SIZE[0],IMAGE_SIZE[1],3),\n",
    "              pooling='max',\n",
    "              classes=NUM_CLASSES)"
   ]
  },
  {
   "cell_type": "code",
   "execution_count": 5,
   "metadata": {},
   "outputs": [],
   "source": [
    "# Next, we need to ensure that all of the layers in our model are trainable\n",
    "for layer in model2.layers:\n",
    "    layer.trainable = True"
   ]
  },
  {
   "cell_type": "code",
   "execution_count": 6,
   "metadata": {},
   "outputs": [
    {
     "name": "stdout",
     "output_type": "stream",
     "text": [
      "Model: \"vgg16\"\n",
      "_________________________________________________________________\n",
      "Layer (type)                 Output Shape              Param #   \n",
      "=================================================================\n",
      "input_1 (InputLayer)         [(None, 300, 300, 3)]     0         \n",
      "_________________________________________________________________\n",
      "block1_conv1 (Conv2D)        (None, 300, 300, 64)      1792      \n",
      "_________________________________________________________________\n",
      "block1_conv2 (Conv2D)        (None, 300, 300, 64)      36928     \n",
      "_________________________________________________________________\n",
      "block1_pool (MaxPooling2D)   (None, 150, 150, 64)      0         \n",
      "_________________________________________________________________\n",
      "block2_conv1 (Conv2D)        (None, 150, 150, 128)     73856     \n",
      "_________________________________________________________________\n",
      "block2_conv2 (Conv2D)        (None, 150, 150, 128)     147584    \n",
      "_________________________________________________________________\n",
      "block2_pool (MaxPooling2D)   (None, 75, 75, 128)       0         \n",
      "_________________________________________________________________\n",
      "block3_conv1 (Conv2D)        (None, 75, 75, 256)       295168    \n",
      "_________________________________________________________________\n",
      "block3_conv2 (Conv2D)        (None, 75, 75, 256)       590080    \n",
      "_________________________________________________________________\n",
      "block3_conv3 (Conv2D)        (None, 75, 75, 256)       590080    \n",
      "_________________________________________________________________\n",
      "block3_pool (MaxPooling2D)   (None, 37, 37, 256)       0         \n",
      "_________________________________________________________________\n",
      "block4_conv1 (Conv2D)        (None, 37, 37, 512)       1180160   \n",
      "_________________________________________________________________\n",
      "block4_conv2 (Conv2D)        (None, 37, 37, 512)       2359808   \n",
      "_________________________________________________________________\n",
      "block4_conv3 (Conv2D)        (None, 37, 37, 512)       2359808   \n",
      "_________________________________________________________________\n",
      "block4_pool (MaxPooling2D)   (None, 18, 18, 512)       0         \n",
      "_________________________________________________________________\n",
      "block5_conv1 (Conv2D)        (None, 18, 18, 512)       2359808   \n",
      "_________________________________________________________________\n",
      "block5_conv2 (Conv2D)        (None, 18, 18, 512)       2359808   \n",
      "_________________________________________________________________\n",
      "block5_conv3 (Conv2D)        (None, 18, 18, 512)       2359808   \n",
      "_________________________________________________________________\n",
      "block5_pool (MaxPooling2D)   (None, 9, 9, 512)         0         \n",
      "_________________________________________________________________\n",
      "flatten (Flatten)            (None, 41472)             0         \n",
      "_________________________________________________________________\n",
      "fc1 (Dense)                  (None, 4096)              169873408 \n",
      "_________________________________________________________________\n",
      "fc2 (Dense)                  (None, 4096)              16781312  \n",
      "_________________________________________________________________\n",
      "predictions (Dense)          (None, 4)                 16388     \n",
      "=================================================================\n",
      "Total params: 201,385,796\n",
      "Trainable params: 201,385,796\n",
      "Non-trainable params: 0\n",
      "_________________________________________________________________\n",
      "None\n"
     ]
    }
   ],
   "source": [
    "# Now we need to set up the optimizer for the model\n",
    "# Let's use Adam...\n",
    "model2.compile(optimizer=Adam(lr=1e-5),\n",
    "              loss='categorical_crossentropy',\n",
    "              metrics=['accuracy'])\n",
    "              \n",
    "# Make a usable summary of our model's training and validation\n",
    "print(model2.summary())"
   ]
  },
  {
   "cell_type": "code",
   "execution_count": 7,
   "metadata": {
    "scrolled": true
   },
   "outputs": [
    {
     "name": "stdout",
     "output_type": "stream",
     "text": [
      "Epoch 1/30\n",
      "33/33 [==============================] - 30s 904ms/step - loss: 1.4356 - accuracy: 0.2939 - val_loss: 1.3114 - val_accuracy: 0.3864\n",
      "Epoch 2/30\n",
      "33/33 [==============================] - 25s 771ms/step - loss: 1.3299 - accuracy: 0.4046 - val_loss: 1.2607 - val_accuracy: 0.3864\n",
      "Epoch 3/30\n",
      "33/33 [==============================] - 26s 798ms/step - loss: 1.2769 - accuracy: 0.3969 - val_loss: 1.0994 - val_accuracy: 0.5568\n",
      "Epoch 4/30\n",
      "33/33 [==============================] - 26s 780ms/step - loss: 1.1098 - accuracy: 0.5379 - val_loss: 0.8760 - val_accuracy: 0.6705\n",
      "Epoch 5/30\n",
      "33/33 [==============================] - 26s 801ms/step - loss: 1.0361 - accuracy: 0.5611 - val_loss: 0.7054 - val_accuracy: 0.7614\n",
      "Epoch 6/30\n",
      "33/33 [==============================] - 26s 786ms/step - loss: 0.9992 - accuracy: 0.6038 - val_loss: 0.7777 - val_accuracy: 0.6705\n",
      "Epoch 7/30\n",
      "33/33 [==============================] - 26s 788ms/step - loss: 0.8461 - accuracy: 0.6908 - val_loss: 0.6765 - val_accuracy: 0.7273\n",
      "Epoch 8/30\n",
      "33/33 [==============================] - 24s 729ms/step - loss: 0.8119 - accuracy: 0.6641 - val_loss: 0.8338 - val_accuracy: 0.6250\n",
      "Epoch 9/30\n",
      "33/33 [==============================] - 24s 737ms/step - loss: 0.8338 - accuracy: 0.6412 - val_loss: 0.6399 - val_accuracy: 0.7727\n",
      "Epoch 10/30\n",
      "33/33 [==============================] - 25s 746ms/step - loss: 0.7265 - accuracy: 0.6932 - val_loss: 0.6098 - val_accuracy: 0.7386\n",
      "Epoch 11/30\n",
      "33/33 [==============================] - 25s 747ms/step - loss: 0.6530 - accuracy: 0.7269 - val_loss: 0.5941 - val_accuracy: 0.7955\n",
      "Epoch 12/30\n",
      "33/33 [==============================] - 25s 755ms/step - loss: 0.6334 - accuracy: 0.7727 - val_loss: 0.7740 - val_accuracy: 0.6477\n",
      "Epoch 13/30\n",
      "33/33 [==============================] - 25s 747ms/step - loss: 0.6050 - accuracy: 0.7481 - val_loss: 0.5983 - val_accuracy: 0.7500\n",
      "Epoch 14/30\n",
      "33/33 [==============================] - 24s 732ms/step - loss: 0.6838 - accuracy: 0.7308 - val_loss: 0.5060 - val_accuracy: 0.7841\n",
      "Epoch 15/30\n",
      "33/33 [==============================] - 25s 766ms/step - loss: 0.4920 - accuracy: 0.8106 - val_loss: 0.6975 - val_accuracy: 0.7045\n",
      "Epoch 16/30\n",
      "33/33 [==============================] - 26s 789ms/step - loss: 0.5721 - accuracy: 0.7748 - val_loss: 0.6105 - val_accuracy: 0.7727\n",
      "Epoch 17/30\n",
      "33/33 [==============================] - 24s 741ms/step - loss: 0.4699 - accuracy: 0.8231 - val_loss: 0.7692 - val_accuracy: 0.7273\n",
      "Epoch 18/30\n",
      "33/33 [==============================] - 24s 733ms/step - loss: 0.4908 - accuracy: 0.8295 - val_loss: 0.4483 - val_accuracy: 0.8523\n",
      "Epoch 19/30\n",
      "33/33 [==============================] - 24s 733ms/step - loss: 0.3520 - accuracy: 0.8538 - val_loss: 0.5341 - val_accuracy: 0.7727\n",
      "Epoch 20/30\n",
      "33/33 [==============================] - 25s 751ms/step - loss: 0.4406 - accuracy: 0.8485 - val_loss: 0.5058 - val_accuracy: 0.8068\n",
      "Epoch 21/30\n",
      "33/33 [==============================] - 24s 742ms/step - loss: 0.4224 - accuracy: 0.8577 - val_loss: 0.6262 - val_accuracy: 0.8182\n",
      "Epoch 22/30\n",
      "33/33 [==============================] - 25s 758ms/step - loss: 0.3455 - accuracy: 0.8674 - val_loss: 0.6051 - val_accuracy: 0.7841\n",
      "Epoch 23/30\n",
      "33/33 [==============================] - 25s 756ms/step - loss: 0.3823 - accuracy: 0.8817 - val_loss: 0.4285 - val_accuracy: 0.8295\n",
      "Epoch 24/30\n",
      "33/33 [==============================] - 24s 742ms/step - loss: 0.4023 - accuracy: 0.8308 - val_loss: 0.4774 - val_accuracy: 0.8409\n",
      "Epoch 25/30\n",
      "33/33 [==============================] - 24s 723ms/step - loss: 0.2647 - accuracy: 0.9015 - val_loss: 0.4345 - val_accuracy: 0.8636\n",
      "Epoch 26/30\n",
      "33/33 [==============================] - 24s 728ms/step - loss: 0.4548 - accuracy: 0.8053 - val_loss: 0.6729 - val_accuracy: 0.7273\n",
      "Epoch 27/30\n",
      "33/33 [==============================] - 24s 740ms/step - loss: 0.3588 - accuracy: 0.8817 - val_loss: 0.3551 - val_accuracy: 0.8750\n",
      "Epoch 28/30\n",
      "33/33 [==============================] - 24s 731ms/step - loss: 0.3000 - accuracy: 0.8931 - val_loss: 0.4286 - val_accuracy: 0.8636\n",
      "Epoch 29/30\n",
      "33/33 [==============================] - 24s 741ms/step - loss: 0.2402 - accuracy: 0.9198 - val_loss: 0.4059 - val_accuracy: 0.8523\n",
      "Epoch 30/30\n",
      "33/33 [==============================] - 24s 728ms/step - loss: 0.2563 - accuracy: 0.9160 - val_loss: 0.3484 - val_accuracy: 0.8864\n"
     ]
    }
   ],
   "source": [
    "# Finally, let's train the model\n",
    "hist2 = model2.fit_generator(train_batches,\n",
    "                     steps_per_epoch = train_batches.samples // BATCH_SIZE,\n",
    "                     validation_data = valid_batches,\n",
    "                     validation_steps = valid_batches.samples //BATCH_SIZE,\n",
    "                     epochs = NUM_EPOCHS)"
   ]
  },
  {
   "cell_type": "code",
   "execution_count": 9,
   "metadata": {},
   "outputs": [
    {
     "data": {
      "image/png": "[encoded data removed]",
      "text/plain": [
       "<Figure size 432x288 with 1 Axes>"
      ]
     },
     "metadata": {},
     "output_type": "display_data"
    },
    {
     "data": {
      "image/png": "[encoded data removed]",
      "text/plain": [
       "<Figure size 432x288 with 1 Axes>"
      ]
     },
     "metadata": {},
     "output_type": "display_data"
    }
   ],
   "source": [
    "import matplotlib.pyplot as plt\n",
    "N=NUM_EPOCHS\n",
    "\n",
    "plt.style.use(\"ggplot\")\n",
    "plt.figure()\n",
    "plt.plot(np.arange(0, N), hist2.history[\"loss\"], label=\"train_loss\")\n",
    "plt.plot(np.arange(0, N), hist2.history[\"val_loss\"], label=\"val_loss\")\n",
    "\n",
    "plt.title(\"Training/Validation Loss on Dataset\")\n",
    "plt.xlabel(\"Epoch #\")\n",
    "plt.ylabel(\"Loss\")\n",
    "plt.legend(loc=\"lower left\")\n",
    "plt.savefig(\"plot_loss.png\")\n",
    "\n",
    "plt.figure()\n",
    "plt.plot(np.arange(0, N), hist2.history[\"accuracy\"], label=\"train_acc\")\n",
    "plt.plot(np.arange(0, N), hist2.history[\"val_accuracy\"], label=\"val_acc\")\n",
    "\n",
    "plt.title(\"Training/Validation Accuracy on Dataset\")\n",
    "plt.xlabel(\"Epoch #\")\n",
    "plt.ylabel(\"Accuracy\")\n",
    "plt.legend(loc=\"lower left\")\n",
    "plt.savefig(\"plot.png\")"
   ]
  },
  {
   "cell_type": "code",
   "execution_count": 12,
   "metadata": {},
   "outputs": [
    {
     "name": "stdout",
     "output_type": "stream",
     "text": [
      "Found 88 images belonging to 4 classes.\n",
      "[('loss', 0.3846859431215638), ('accuracy', 0.8863636)]\n"
     ]
    }
   ],
   "source": [
    "# Now we need to test!!!\n",
    "\n",
    "test_datagen = ImageDataGenerator(preprocessing_function=preprocess_input)\n",
    "test_batches = test_datagen.flow_from_directory(DATASET_PATH + '/test',\n",
    "                                                  target_size=IMAGE_SIZE,\n",
    "                                                  interpolation='bicubic',\n",
    "                                                  class_mode='categorical',\n",
    "                                                  shuffle=False,\n",
    "                                                  batch_size=1)\n",
    "\n",
    "out = model2.evaluate_generator(test_batches, use_multiprocessing=True)\n",
    "print(list(zip(model2.metrics_names,out)))"
   ]
  },
  {
   "cell_type": "code",
   "execution_count": 13,
   "metadata": {},
   "outputs": [],
   "source": [
    "test_batches.reset()\n",
    "Y_pred = model2.predict_generator(test_batches, use_multiprocessing=True)\n",
    "# print(len(Y_pred))"
   ]
  },
  {
   "cell_type": "code",
   "execution_count": 14,
   "metadata": {},
   "outputs": [
    {
     "name": "stdout",
     "output_type": "stream",
     "text": [
      "\n",
      "\n",
      " Classification Report\n",
      "\n",
      "              precision    recall  f1-score   support\n",
      "\n",
      "   cocklebur       0.73      0.94      0.82        17\n",
      "     foxtail       1.00      0.86      0.92        14\n",
      "     pigweed       0.97      0.97      0.97        34\n",
      "     ragweed       0.85      0.74      0.79        23\n",
      "\n",
      "    accuracy                           0.89        88\n",
      "   macro avg       0.89      0.88      0.88        88\n",
      "weighted avg       0.90      0.89      0.89        88\n",
      "\n",
      "\n",
      "\n",
      "Confusion Matrix\n",
      "\n"
     ]
    },
    {
     "data": {
      "text/plain": [
       "<matplotlib.axes._subplots.AxesSubplot at 0x7fda200fe5d0>"
      ]
     },
     "execution_count": 14,
     "metadata": {},
     "output_type": "execute_result"
    },
    {
     "data": {
      "image/png": "[encoded data removed]",
      "text/plain": [
       "<Figure size 720x504 with 2 Axes>"
      ]
     },
     "metadata": {},
     "output_type": "display_data"
    }
   ],
   "source": [
    "# for plots et al.\n",
    "import matplotlib.pyplot as plt\n",
    "import numpy as np\n",
    "from sklearn.metrics import classification_report, confusion_matrix\n",
    "import pandas as pd\n",
    "import matplotlib.pyplot as plt\n",
    "import seaborn as sn\n",
    "\n",
    "y_pred = np.argmax(Y_pred, axis=1)\n",
    "\n",
    "print('\\n\\n Classification Report\\n')\n",
    "target_names = list(test_batches.class_indices.keys())\n",
    "print(classification_report(list(test_batches.classes), y_pred, target_names=target_names))\n",
    "\n",
    "\n",
    "print('\\n\\nConfusion Matrix\\n')\n",
    "cm = confusion_matrix(test_batches.classes, y_pred)\n",
    "\n",
    "# row_sums = cm.sum(axis=1)\n",
    "# new_matrix = a / row_sums[:, numpy.newaxis]\n",
    "\n",
    "df_cm = pd.DataFrame(cm)\n",
    "plt.figure(figsize = (10,7))\n",
    "sn.heatmap(df_cm, annot=True)"
   ]
  },
  {
   "cell_type": "code",
   "execution_count": 16,
   "metadata": {},
   "outputs": [],
   "source": [
    "# save trained weights\n",
    "model2.save(WEIGHTS_FINAL)"
   ]
  }
 ],
 "metadata": {
  "kernelspec": {
   "display_name": "Python 3",
   "language": "python",
   "name": "python3"
  },
  "language_info": {
   "codemirror_mode": {
    "name": "ipython",
    "version": 3
   },
   "file_extension": ".py",
   "mimetype": "text/x-python",
   "name": "python",
   "nbconvert_exporter": "python",
   "pygments_lexer": "ipython3",
   "version": "3.7.5"
  }
 },
 "nbformat": 4,
 "nbformat_minor": 2
}
